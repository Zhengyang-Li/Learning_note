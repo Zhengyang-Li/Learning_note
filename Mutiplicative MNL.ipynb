{
 "cells": [
  {
   "cell_type": "markdown",
   "metadata": {
    "collapsed": true
   },
   "source": [
    "# The multiplicative MNL model"
   ]
  },
  {
   "cell_type": "code",
   "execution_count": 2,
   "metadata": {},
   "outputs": [],
   "source": [
    "import numpy as np\n",
    "import math\n",
    "from scipy.stats import gumbel_r\n",
    "import matplotlib.pyplot as plt"
   ]
  },
  {
   "cell_type": "markdown",
   "metadata": {},
   "source": [
    "## The additive MNL model\n",
    "The utility of alternative $l$ is:\n",
    "\n",
    "$$\n",
    "U_l = V_l + \\varepsilon_l\n",
    "$$\n",
    "\n",
    "where $V_1$ is the deterministic component and $\\varepsilon_l$ is a random error. In this example, we focus on the Logit model. The Logit model assumes $\\varepsilon_l\\sim Gumbel(0, \\theta)$. The formulation of additive MNL model is:\n",
    "\n",
    "$$\n",
    "P_k = \\frac{e^{\\theta U_k}}{\\sum_l{e^{\\theta U_l}}}\n",
    "$$\n",
    "\n",
    "However, adding a random error term can not reflect the relative difference between the different alternatives. For example, using the Logit model, the probabilities of choosing alternative 1 are the same, i.e., 0.2689 ,in the following two conditions:\n",
    "\n",
    "Condition 1:\n",
    "$U_1 = 1 + Gumbel(0,1)$ \n",
    "$U_2 = 2 + Gumbel(0,1)$ \n",
    "\n",
    "Condition 2:\n",
    "$U_1 = 101 + Gumbel(0,1)$ \n",
    "$U_2 = 102 + Gumbel(0,1)$"
   ]
  },
  {
   "cell_type": "code",
   "execution_count": 13,
   "metadata": {},
   "outputs": [
    {
     "name": "stdout",
     "output_type": "stream",
     "text": [
      "Probability of choosing alternative 1\n",
      "0.2689414213699951\n"
     ]
    }
   ],
   "source": [
    "# Condition 1\n",
    "U1_mode, U2_mode = (1, 2)\n",
    "theta = 1\n",
    "print('Probability of choosing alternative 1')\n",
    "print(math.e ** (theta * U1_mode) / (math.e ** (theta * U1_mode) + math.e ** (theta * U2_mode)))"
   ]
  },
  {
   "cell_type": "code",
   "execution_count": 12,
   "metadata": {},
   "outputs": [
    {
     "name": "stdout",
     "output_type": "stream",
     "text": [
      "Probability of choosing alternative 1\n",
      "0.2689414213699951\n"
     ]
    }
   ],
   "source": [
    "# Condition 2\n",
    "U1_mode, U2_mode = (101, 102)\n",
    "theta = 1\n",
    "print('Probability of choosing alternative 1')\n",
    "print(math.e ** (theta * U1_mode) / (math.e ** (theta * U1_mode) + math.e ** (theta * U2_mode)))"
   ]
  },
  {
   "cell_type": "markdown",
   "metadata": {},
   "source": [
    "This phenomenon is not realistic, as the choosing probability only relies on the absolute utility difference of the two alternatives, ignoring their relative difference.\n",
    "\n",
    "A more realistic model should not only consider the absolute utility difference but also concerns about the relative utility difference.\n",
    "\n",
    "How to model the relative utility difference? Let have a look at multiplicative MNL model.\n",
    "\n",
    "## The multiplicative MNL model\n",
    "\n",
    "The utility of alternative $l$ is:\n",
    "\n",
    "$$\n",
    "U_l = V_l\\varepsilon_l\n",
    "$$\n",
    "\n",
    "Take logarithm, we have:\n",
    "\n",
    "$$\n",
    "\\ln(U_l) = \\ln(V_l)+\\ln(\\varepsilon_l)\n",
    "$$\n",
    "\n",
    "which resembles its additive version yet with a logarithm operator. By assuming $\\varepsilon_l\\sim Gumbel(0, \\theta)$, we can obtain the multiplicative MNL model:\n",
    "\n",
    "$$\n",
    "P_k = \\frac{e^{\\theta \\ln(U_k)}}{\\sum_l{e^{\\theta \\ln(U_l)}}}\n",
    "$$\n",
    "\n",
    "Now, let apply this formulation to the same two-condition example:\n",
    "\n",
    "Condition 1:\n",
    "$U_1 = 1 + Gumbel(0,1)$ \n",
    "$U_2 = 2 + Gumbel(0,1)$ \n",
    "\n",
    "Condition 2:\n",
    "$U_1 = 101 + Gumbel(0,1)$ \n",
    "$U_2 = 102 + Gumbel(0,1)$"
   ]
  },
  {
   "cell_type": "code",
   "execution_count": 14,
   "metadata": {
    "pycharm": {
     "name": "#%%\n"
    }
   },
   "outputs": [
    {
     "name": "stdout",
     "output_type": "stream",
     "text": [
      "Probability of choosing alternative 1\n",
      "0.3333333333333333\n"
     ]
    }
   ],
   "source": [
    "# Condition 1\n",
    "U1_mode, U2_mode = (1, 2)\n",
    "theta = 1\n",
    "print('Probability of choosing alternative 1')\n",
    "print(math.e ** (theta * math.log(U1_mode)) / (math.e ** (theta * math.log(U1_mode)) + math.e ** (theta * math.log(U2_mode))))"
   ]
  },
  {
   "cell_type": "code",
   "execution_count": 15,
   "metadata": {},
   "outputs": [
    {
     "name": "stdout",
     "output_type": "stream",
     "text": [
      "Probability of choosing alternative 1\n",
      "0.497536945812808\n"
     ]
    }
   ],
   "source": [
    "# Condition 2\n",
    "U1_mode, U2_mode = (101, 102)\n",
    "theta = 1\n",
    "print('Probability of choosing alternative 1')\n",
    "print(math.e ** (theta * math.log(U1_mode)) / (math.e ** (theta * math.log(U1_mode)) + math.e ** (theta * math.log(U2_mode))))"
   ]
  },
  {
   "cell_type": "markdown",
   "metadata": {},
   "source": [
    "A totally new story!"
   ]
  },
  {
   "cell_type": "code",
   "execution_count": null,
   "metadata": {},
   "outputs": [],
   "source": []
  }
 ],
 "metadata": {
  "kernelspec": {
   "display_name": "Python 3",
   "language": "python",
   "name": "python3"
  },
  "language_info": {
   "codemirror_mode": {
    "name": "ipython",
    "version": 3
   },
   "file_extension": ".py",
   "mimetype": "text/x-python",
   "name": "python",
   "nbconvert_exporter": "python",
   "pygments_lexer": "ipython3",
   "version": "3.8.3"
  }
 },
 "nbformat": 4,
 "nbformat_minor": 1
}
