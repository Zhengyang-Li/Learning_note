{
 "cells": [
  {
   "cell_type": "code",
   "execution_count": 21,
   "metadata": {},
   "outputs": [],
   "source": [
    "import matplotlib.pyplot as plt\n",
    "import numpy as np\n",
    "from scipy.stats import binom\n",
    "from scipy.stats import norm"
   ]
  },
  {
   "cell_type": "markdown",
   "metadata": {},
   "source": [
    "# Maximum likelihood method\n",
    "## 1. Likelihood function and log-likelihood function\n",
    "For a sample with size n, i.e., $X=\\left\\{ X_1, X_2,...,X_n \\right\\}$, the likelihood funtion is:\n",
    "$$\n",
    "L(X, \\theta)=\\prod_{k=1}^{n} f\\left(X_{k}, \\theta\\right)\n",
    "$$\n",
    "where $\\theta$ is the parameter to be estimated, and $f(\\cdot)$ is a given probability mass/density function.\n",
    "\n",
    "The maximum likelihood method, as the name implies, is a method to determine the most appropriate distribution parameter to maximize the likelihood function.\n",
    "$$\n",
    "\\hat \\theta = \\text{argmax}_\\theta L(X, \\theta)\n",
    "$$\n",
    "\n",
    "For computation convenience, we can take logarithm to get the log-likelihood function:\n",
    "$$\n",
    "\\ell(X, \\theta) = \\log L(X, \\theta)=\\log \\prod_{k=1}^{n} f\\left(X_{k}, \\theta\\right)=\\sum_{k=1}^{n} \\log f\\left(X_{k}, \\theta\\right)\n",
    "$$\n",
    "\n",
    "It is worth mentioning that, taking logarithm does not affect our estimation as the parameter maximizing the log-likelihood function also maximize the original likelihood fucntion.\n",
    "$$\n",
    "\\hat \\theta = \\text{argmax}_\\theta \\ell (X, \\theta)\n",
    "$$"
   ]
  },
  {
   "cell_type": "markdown",
   "metadata": {},
   "source": [
    "### 1.1 An illustrative example (from Likelihood function.ipynb)\n",
    "In winter, the probability p of students getting cold is probably 0.05 or 0.06 or 0.07..., but we do not exactly know. Therefore, we need to firstly sample some students to obtain the statistical information. Let's sample 100 students from a school, among which 6 get cold. What are the likelihood fucntion and log-likelihood fucntion?\n",
    "\n",
    "| Sample size | # of students getting cold |\n",
    "| --- | --- |\n",
    "| 100 | 6   |\n",
    "\n"
   ]
  },
  {
   "cell_type": "code",
   "execution_count": 22,
   "metadata": {},
   "outputs": [
    {
     "data": {
      "text/plain": [
       "<matplotlib.legend.Legend at 0x2613241c340>"
      ]
     },
     "execution_count": 22,
     "metadata": {},
     "output_type": "execute_result"
    },
    {
     "data": {
      "image/png": "[encoded data removed]",
      "text/plain": [
       "<Figure size 432x288 with 1 Axes>"
      ]
     },
     "metadata": {
      "needs_background": "light"
     },
     "output_type": "display_data"
    },
    {
     "data": {
      "image/png": "[encoded data removed]",
      "text/plain": [
       "<Figure size 432x288 with 1 Axes>"
      ]
     },
     "metadata": {
      "needs_background": "light"
     },
     "output_type": "display_data"
    }
   ],
   "source": [
    "student_num = 100\n",
    "cold_num = 6\n",
    "p = np.linspace(0.01, 0.15, 15)\n",
    "likelihood = binom.pmf(cold_num, student_num, p)\n",
    "log_likelihood = np.log(likelihood)\n",
    "\n",
    "# plot the likelihood function\n",
    "fig, ax = plt.subplots(1, 1)\n",
    "ax.plot(p, likelihood, 'b-', lw=3, alpha=1, label='Likelihood')\n",
    "plt.xlabel('p value')\n",
    "plt.ylabel('Likelihood')\n",
    "plt.legend()\n",
    "\n",
    "# plot the log-likelihood function\n",
    "fig, ax = plt.subplots(1, 1)\n",
    "ax.plot(p, log_likelihood, 'b-', lw=3, alpha=1, label='Log-likelihood')\n",
    "plt.xlabel('p value')\n",
    "plt.ylabel('Log-likelihood')\n",
    "plt.legend()"
   ]
  },
  {
   "cell_type": "markdown",
   "metadata": {},
   "source": [
    "## 2. Score and observed information\n",
    "### 2.1 Score\n",
    "To find the maimum likelihood equation, we need to differentiate the log-likelihood function and set it equals to 0, i.e.,\n",
    "$$\n",
    "\\frac{d}{d \\theta} \\ell (X, \\theta)=0\n",
    "$$\n",
    "which is called the score equation.\n",
    "\n",
    "### 2.2 Observed information\n",
    "The negative second derivative of likelihood function is called the observed information.\n",
    "$$\n",
    "I_o(X, \\theta)=-\\frac{d^{2}}{d \\theta^{2}} \\ell (X, \\theta) \\geq 0\n",
    "$$\n",
    "- The second derivative must be negative (maximization problem).\n",
    "- The observed information must be positive.\n",
    "\n",
    "The observed information reflects our confidence in the maximum likelihood estimation. It is not hard to imagine that, if the observed information closes to zero, it means that the maximum point is relatively flat and other parameter options may also be likely to be the \"true\" parameter. If the observed information is a large positive value, it means the likelihood function has a obvious peak point and other parameter options are less likely to be the \"true\" parameter.\n",
    "\n",
    "## 3. Statistical properties of MLE\n",
    "- The MLE is **NOT** an unbiased estimator neccessarily.\n",
    "- The MLE is **asymptotically** unbiased and consistent.\n",
    "- The asymptotic distribution of maximum likelihood estimator is normal (good for confidence intervals!)\n",
    "$$\n",
    "\\widehat{\\Theta} \\sim N\\left(\\theta, \\frac{1}{E\\left[ I_o(X, \\hat{\\theta}) \\right]} \\right)\n",
    "$$\n",
    "where $E\\left[ I_o(X, \\hat{\\theta}) \\right]$ is the expected information.\n",
    "- Transformation invariance: if MLE for $\\theta$ is $\\hat \\theta$, then the MLE for $g(\\theta)$ is $g(\\hat \\theta)$. If the standard error for $\\hat \\theta$ is $se(\\hat \\theta)$, then the standard error for the transformation is\n",
    "$$\n",
    "\\operatorname{se}[g(\\hat{\\theta})] \\approx g^{\\prime}(\\hat{\\theta}) \\operatorname{se}(\\hat{\\theta})\n",
    "$$\n",
    "It is basically the error propagation in calculus."
   ]
  },
  {
   "cell_type": "markdown",
   "metadata": {},
   "source": [
    "### An example: pregnancy success from artificial insemination\n",
    "#### Problem setting\n",
    "n=number of successful couples;\\\n",
    "y=total pregnancy attempts by all couples;\\\n",
    "$\\theta$=probability of individual success.\n",
    "\n",
    "Find the MLE where n=20, y=100 and calculate a 95% confidence interval.\n",
    "\n",
    "#### Solution\n",
    "The likelihood function is:\n",
    "$$\n",
    "L(\\theta)=\\theta^{n}(1-\\theta)^{y-n}\n",
    "$$\n",
    "\n",
    "The log-likelihood function is:\n",
    "$$\n",
    "\\ell(\\theta)=n \\log \\theta+(y-n) \\log (1-\\theta)\n",
    "$$\n",
    "\n",
    "The first derivative, i.e., score, is:\n",
    "$$\n",
    "\\frac{d}{d \\theta} \\ell(\\theta)=\\frac{n}{\\theta}-\\frac{y-n}{1-\\theta}=0\n",
    "\\Rightarrow \\hat \\theta = \\frac{n}{y} = \\frac{20}{100} = 0.2\n",
    "$$\n",
    "\n",
    "The observe information is:\n",
    "$$\n",
    "I_o(\\theta ; y)=-\\frac{d^{2}}{d \\theta^{2}} \\ell(\\theta)=-\\left[-\\frac{n}{\\theta^{2}}-\\frac{y-n}{(1-\\theta)^{2}}\\right]\n",
    "$$\n",
    "\n",
    "The expected information is (we can also take the expectation of n):\n",
    "$$\n",
    "I(\\theta)=E\\left[I_o(\\theta ; y)\\right]=\\frac{n}{\\theta^{2}}+\\frac{E(Y)-n}{(1-\\theta)^{2}}\n",
    "$$\n",
    "where \n",
    "$$\n",
    "E(Y)=\\frac{n}{\\theta}\n",
    "$$\n",
    "\n",
    "Therefore,\n",
    "$$\n",
    "I(\\theta)=\\frac{n}{\\left(\\theta^{2}\\right)(1-\\theta)}\n",
    "$$\n",
    "\n",
    "Finally, plug in the sample information, the 95% confidence level is:\n",
    "$$\n",
    "\\frac{n}{y} \\pm 1.96 \\sqrt{\\frac{\\hat{\\theta}^{2}(1-\\hat{\\theta})}{n}} = 0.2 \\pm 1.96 \\sqrt{\\frac{0.2^{2}(0.8)}{20}}=[0.1216,0.2784]\n",
    "$$"
   ]
  },
  {
   "cell_type": "markdown",
   "metadata": {},
   "source": [
    "## 4. Multiple parameters\n",
    "The multiple parameters MLE is the generalization of the single parameter MLE.\n",
    "\n",
    "For multiple parameters, MLE asymptotically converges to the multivariate Normal distribution:\n",
    "$$\n",
    "\\widehat{\\Theta} \\sim N_p\\left(\\theta, I(X, \\hat{\\theta})^{-1}\\right)\n",
    "$$\n",
    "where p is the number of estimated parameters. \n",
    "The score is\n",
    "$$\n",
    "\\theta=\\left[\\begin{array}{c}\n",
    "\\theta_{1} \\\\\n",
    "\\vdots \\\\\n",
    "\\theta_{p}\n",
    "\\end{array}\\right]\n",
    "$$\n",
    "The MLE $\\hat{\\theta}$ is the solution of the following equation system:\n",
    "$$\n",
    "\\begin{gathered}\n",
    "\\partial \\ell \\left(\\theta_{1}, \\ldots, \\theta_{p}\\right) / \\partial \\theta_{1}=0 \\\\\n",
    "\\vdots \\\\\n",
    "\\partial \\ell \\left(\\theta_{1}, \\ldots, \\theta_{p}\\right) / \\partial \\theta_{p}=0\n",
    "\\end{gathered}\n",
    "$$\n",
    "\n",
    "The observed information is\n",
    "$$\n",
    "I(X, \\hat{\\theta})=\\left[\\begin{array}{ccc}\n",
    "I_{11} & \\cdots & I_{1 p} \\\\\n",
    "\\vdots & \\ddots & \\vdots \\\\\n",
    "I_{p 1} & \\cdots & I_{p p}\n",
    "\\end{array}\\right]\n",
    "$$\n",
    "where\n",
    "$$\n",
    "I_{i j}=- \\frac{\\partial^{2}}{\\partial \\theta_{i} \\partial \\theta_{j}} \\ell \\left(\\theta_{1}, \\ldots, \\theta_{p}\\right)\n",
    "$$\n"
   ]
  },
  {
   "cell_type": "markdown",
   "metadata": {},
   "source": [
    "### An example: systolic blood pressure (SBP) in pregnancy\n",
    "A sample of 5 pregnant women have their SBP taken, which is considered to be normally distributed.\n",
    "\n",
    "| Person | 1   | 2 | 3 | 4 | 5 |\n",
    "| --- | --- | --- | --- | --- | --- |\n",
    "| SBP | 135   | 123 | 120 | 102 | 110 |\n",
    "\n",
    "What are the most likely values of $\\mu$ and $\\sigma$?\n",
    "\n",
    "### Solution:\n",
    "Here the distribution is given as a normal distribution with PDF:\n",
    "$$\n",
    "f(x; \\mu, \\sigma^2)=\\frac{1}{\\sigma \\sqrt{2 \\pi}} e^{-\\frac{1}{2}\\left(\\frac{x-\\mu}{\\sigma}\\right)^{2}}\n",
    "$$\n",
    "\n",
    "The likelihood function is:\n",
    "$$\n",
    "L\\left(X ; \\mu, \\sigma^{2} \\right)=\\prod_{i=1}^{5} f_{i}\\left(x_{i} ; \\mu, \\sigma^{2}\\right) =\\left(\\frac{1}{2 \\pi \\sigma^{2}}\\right)^{\\frac{n}{2}} \\exp \\left\\{-\\sum_{i=1}^{n} \\frac{\\left(x_{i}-\\mu\\right)^{2}}{2 \\sigma^{2}}\\right\\}\n",
    "$$\n",
    "\n",
    "The log-likelihood function is:\n",
    "$$\n",
    "\\ell = \\log L\\left(X ; \\mu, \\sigma^{2}\\right)=-\\left(\\frac{n}{2}\\right) \\ln (2 \\pi)-\\left(\\frac{n}{2}\\right) \\ln \\left(\\sigma^{2}\\right)-\\frac{1}{2 \\sigma^{2}}\\left(\\Sigma x^{2}-2 \\mu \\Sigma x+n \\mu^{2}\\right)\n",
    "$$\n",
    "\n",
    "Let the score with respect to $\\mu$ to be zero:\n",
    "$$\n",
    "\\frac{\\partial \\ell}{\\partial \\mu}=\\frac{2(\\Sigma x-n \\mu)}{2 \\sigma^{2}}=\\frac{(\\Sigma x-n \\mu)}{\\sigma^{2}}=0\n",
    "\\Rightarrow \\hat \\mu = \\frac{\\sum x}{n}\n",
    "$$\n",
    "Plug in the values:\n",
    "$$\n",
    "\\hat \\mu = \\frac{\\sum x}{n} = \\frac{135 + 123 + 120 + 102 + 110}{5} = 118\n",
    "$$\n",
    "\n",
    "Let the score with respect to variance to be zero  (of course, we can also take the derivative with respect to $\\sigma$):\n",
    "$$\n",
    "\\frac{\\partial \\ell}{\\partial \\sigma^{2}}=-\\frac{n}{2 \\sigma^{2}}+\\frac{1}{2\\left(\\sigma^{2}\\right)^{2}}\\left(\\Sigma x^{2}-2 \\mu \\Sigma x+n \\mu^{2}\\right)=0\n",
    "\\Rightarrow \\hat \\sigma^2 = \\frac{1}{n} \\left(\\sum x^2 - 2\\hat \\mu \\sum x + n \\hat \\mu^2 \\right)\n",
    "$$\n",
    "\n",
    "Do some algebra manipulation to replace $\\hat \\mu$ in the second equation:\n",
    "$$\n",
    "\\begin{aligned}\n",
    "\\hat{\\sigma}^{2} &=\\left(\\frac{1}{n}\\right)\\left(\\Sigma x^{2}-2 \\hat{\\mu} \\Sigma x+n \\hat{\\mu}^{2}\\right) \\\\\n",
    "&=\\frac{\\Sigma x^{2}}{n}-\\frac{2 \\Sigma x \\Sigma x}{n^{2}}+\\frac{(\\Sigma x)^{2}}{n^{2}} \\\\\n",
    "&=\\frac{\\Sigma x^{2}}{n}-\\left(\\frac{\\Sigma x}{n}\\right)^{2} \\\\\n",
    "&=\\frac{\\Sigma(x-\\hat{\\mu})^{2}}{n} (alternatively)\n",
    "\\end{aligned}\n",
    "$$\n",
    "\n",
    "Plug in the values:\n",
    "$$\n",
    "\\hat{\\sigma}^{2} = \\frac{\\Sigma(x-\\hat{\\mu})^{2}}{n} = \\frac{(135 - 118)^2 + (123 - 118)^2 + (120 - 118)^2 + (102 - 118)^2 + (110-118)^2}{5} = 127.6\n",
    "$$\n",
    "\n",
    "From the last equation, we can see that MLE is not necessarily an unbiased estimation, as an unbiased estimation should specify the denominator as n-1, i.e.,\n",
    "$$\n",
    "\\hat{\\sigma}^{2} = \\frac{\\Sigma(x-\\hat{\\mu})^{2}}{n-1} (Unbiased)\n",
    "$$"
   ]
  },
  {
   "cell_type": "code",
   "execution_count": 23,
   "metadata": {},
   "outputs": [
    {
     "name": "stdout",
     "output_type": "stream",
     "text": [
      "mean 118.0\n",
      "variance 127.6\n",
      "Standard deviation 11.29601699715435\n"
     ]
    }
   ],
   "source": [
    "sample = [135, 123, 120, 102, 110]\n",
    "\n",
    "# Maximum likelihood estimates\n",
    "print('mean', sum(sample)/5)\n",
    "print('variance', np.var(sample))\n",
    "print('Standard deviation', np.sqrt(np.var(sample)))"
   ]
  },
  {
   "cell_type": "markdown",
   "metadata": {},
   "source": [
    "## 5. Other estimation method\n",
    "- Oridnary least square.\n",
    "- Method of moments.\n",
    "\n",
    "The main difference between MLE and the above two methods is that MLE uses the distribution of the random variable."
   ]
  },
  {
   "cell_type": "markdown",
   "metadata": {},
   "source": [
    "## 6. Reference\n",
    "zedstatistics: https://www.youtube.com/watch?v=7kLHJ-F33GI&t=10s"
   ]
  },
  {
   "cell_type": "code",
   "execution_count": null,
   "metadata": {},
   "outputs": [],
   "source": []
  }
 ],
 "metadata": {
  "kernelspec": {
   "display_name": "Python 3",
   "language": "python",
   "name": "python3"
  },
  "language_info": {
   "codemirror_mode": {
    "name": "ipython",
    "version": 3
   },
   "file_extension": ".py",
   "mimetype": "text/x-python",
   "name": "python",
   "nbconvert_exporter": "python",
   "pygments_lexer": "ipython3",
   "version": "3.8.3"
  }
 },
 "nbformat": 4,
 "nbformat_minor": 4
}
